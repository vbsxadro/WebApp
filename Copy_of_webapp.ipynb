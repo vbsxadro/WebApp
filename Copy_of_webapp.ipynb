{
  "cells": [
    {
      "cell_type": "code",
      "execution_count": null,
      "metadata": {
        "colab": {
          "base_uri": "https://localhost:8080/"
        },
        "id": "BEsD2UfQQwmZ",
        "outputId": "9f764d05-4d60-43fc-db82-a6b784f38711"
      },
      "outputs": [
        {
          "name": "stdout",
          "output_type": "stream",
          "text": [
            "Collecting streamlit\n",
            "  Downloading streamlit-1.30.0-py2.py3-none-any.whl (8.4 MB)\n",
            "\u001b[2K     \u001b[90m━━━━━━━━━━━━━━━━━━━━━━━━━━━━━━━━━━━━━━━━\u001b[0m \u001b[32m8.4/8.4 MB\u001b[0m \u001b[31m15.7 MB/s\u001b[0m eta \u001b[36m0:00:00\u001b[0m\n",
            "\u001b[?25hRequirement already satisfied: altair<6,>=4.0 in /usr/local/lib/python3.10/dist-packages (from streamlit) (4.2.2)\n",
            "Requirement already satisfied: blinker<2,>=1.0.0 in /usr/lib/python3/dist-packages (from streamlit) (1.4)\n",
            "Requirement already satisfied: cachetools<6,>=4.0 in /usr/local/lib/python3.10/dist-packages (from streamlit) (5.3.2)\n",
            "Requirement already satisfied: click<9,>=7.0 in /usr/local/lib/python3.10/dist-packages (from streamlit) (8.1.7)\n",
            "Requirement already satisfied: importlib-metadata<8,>=1.4 in /usr/local/lib/python3.10/dist-packages (from streamlit) (7.0.1)\n",
            "Requirement already satisfied: numpy<2,>=1.19.3 in /usr/local/lib/python3.10/dist-packages (from streamlit) (1.23.5)\n",
            "Requirement already satisfied: packaging<24,>=16.8 in /usr/local/lib/python3.10/dist-packages (from streamlit) (23.2)\n",
            "Requirement already satisfied: pandas<3,>=1.3.0 in /usr/local/lib/python3.10/dist-packages (from streamlit) (1.5.3)\n",
            "Requirement already satisfied: pillow<11,>=7.1.0 in /usr/local/lib/python3.10/dist-packages (from streamlit) (9.4.0)\n",
            "Requirement already satisfied: protobuf<5,>=3.20 in /usr/local/lib/python3.10/dist-packages (from streamlit) (3.20.3)\n",
            "Requirement already satisfied: pyarrow>=6.0 in /usr/local/lib/python3.10/dist-packages (from streamlit) (10.0.1)\n",
            "Requirement already satisfied: python-dateutil<3,>=2.7.3 in /usr/local/lib/python3.10/dist-packages (from streamlit) (2.8.2)\n",
            "Requirement already satisfied: requests<3,>=2.27 in /usr/local/lib/python3.10/dist-packages (from streamlit) (2.31.0)\n",
            "Requirement already satisfied: rich<14,>=10.14.0 in /usr/local/lib/python3.10/dist-packages (from streamlit) (13.7.0)\n",
            "Requirement already satisfied: tenacity<9,>=8.1.0 in /usr/local/lib/python3.10/dist-packages (from streamlit) (8.2.3)\n",
            "Requirement already satisfied: toml<2,>=0.10.1 in /usr/local/lib/python3.10/dist-packages (from streamlit) (0.10.2)\n",
            "Requirement already satisfied: typing-extensions<5,>=4.3.0 in /usr/local/lib/python3.10/dist-packages (from streamlit) (4.5.0)\n",
            "Requirement already satisfied: tzlocal<6,>=1.1 in /usr/local/lib/python3.10/dist-packages (from streamlit) (5.2)\n",
            "Collecting validators<1,>=0.2 (from streamlit)\n",
            "  Downloading validators-0.22.0-py3-none-any.whl (26 kB)\n",
            "Collecting gitpython!=3.1.19,<4,>=3.0.7 (from streamlit)\n",
            "  Downloading GitPython-3.1.41-py3-none-any.whl (196 kB)\n",
            "\u001b[2K     \u001b[90m━━━━━━━━━━━━━━━━━━━━━━━━━━━━━━━━━━━━━━━━\u001b[0m \u001b[32m196.4/196.4 kB\u001b[0m \u001b[31m26.6 MB/s\u001b[0m eta \u001b[36m0:00:00\u001b[0m\n",
            "\u001b[?25hCollecting pydeck<1,>=0.8.0b4 (from streamlit)\n",
            "  Downloading pydeck-0.8.1b0-py2.py3-none-any.whl (4.8 MB)\n",
            "\u001b[2K     \u001b[90m━━━━━━━━━━━━━━━━━━━━━━━━━━━━━━━━━━━━━━━━\u001b[0m \u001b[32m4.8/4.8 MB\u001b[0m \u001b[31m35.9 MB/s\u001b[0m eta \u001b[36m0:00:00\u001b[0m\n",
            "\u001b[?25hRequirement already satisfied: tornado<7,>=6.0.3 in /usr/local/lib/python3.10/dist-packages (from streamlit) (6.3.2)\n",
            "Collecting watchdog>=2.1.5 (from streamlit)\n",
            "  Downloading watchdog-3.0.0-py3-none-manylinux2014_x86_64.whl (82 kB)\n",
            "\u001b[2K     \u001b[90m━━━━━━━━━━━━━━━━━━━━━━━━━━━━━━━━━━━━━━━━\u001b[0m \u001b[32m82.1/82.1 kB\u001b[0m \u001b[31m13.1 MB/s\u001b[0m eta \u001b[36m0:00:00\u001b[0m\n",
            "\u001b[?25hRequirement already satisfied: entrypoints in /usr/local/lib/python3.10/dist-packages (from altair<6,>=4.0->streamlit) (0.4)\n",
            "Requirement already satisfied: jinja2 in /usr/local/lib/python3.10/dist-packages (from altair<6,>=4.0->streamlit) (3.1.3)\n",
            "Requirement already satisfied: jsonschema>=3.0 in /usr/local/lib/python3.10/dist-packages (from altair<6,>=4.0->streamlit) (4.19.2)\n",
            "Requirement already satisfied: toolz in /usr/local/lib/python3.10/dist-packages (from altair<6,>=4.0->streamlit) (0.12.0)\n",
            "Collecting gitdb<5,>=4.0.1 (from gitpython!=3.1.19,<4,>=3.0.7->streamlit)\n",
            "  Downloading gitdb-4.0.11-py3-none-any.whl (62 kB)\n",
            "\u001b[2K     \u001b[90m━━━━━━━━━━━━━━━━━━━━━━━━━━━━━━━━━━━━━━━━\u001b[0m \u001b[32m62.7/62.7 kB\u001b[0m \u001b[31m5.8 MB/s\u001b[0m eta \u001b[36m0:00:00\u001b[0m\n",
            "\u001b[?25hRequirement already satisfied: zipp>=0.5 in /usr/local/lib/python3.10/dist-packages (from importlib-metadata<8,>=1.4->streamlit) (3.17.0)\n",
            "Requirement already satisfied: pytz>=2020.1 in /usr/local/lib/python3.10/dist-packages (from pandas<3,>=1.3.0->streamlit) (2023.3.post1)\n",
            "Requirement already satisfied: six>=1.5 in /usr/local/lib/python3.10/dist-packages (from python-dateutil<3,>=2.7.3->streamlit) (1.16.0)\n",
            "Requirement already satisfied: charset-normalizer<4,>=2 in /usr/local/lib/python3.10/dist-packages (from requests<3,>=2.27->streamlit) (3.3.2)\n",
            "Requirement already satisfied: idna<4,>=2.5 in /usr/local/lib/python3.10/dist-packages (from requests<3,>=2.27->streamlit) (3.6)\n",
            "Requirement already satisfied: urllib3<3,>=1.21.1 in /usr/local/lib/python3.10/dist-packages (from requests<3,>=2.27->streamlit) (2.0.7)\n",
            "Requirement already satisfied: certifi>=2017.4.17 in /usr/local/lib/python3.10/dist-packages (from requests<3,>=2.27->streamlit) (2023.11.17)\n",
            "Requirement already satisfied: markdown-it-py>=2.2.0 in /usr/local/lib/python3.10/dist-packages (from rich<14,>=10.14.0->streamlit) (3.0.0)\n",
            "Requirement already satisfied: pygments<3.0.0,>=2.13.0 in /usr/local/lib/python3.10/dist-packages (from rich<14,>=10.14.0->streamlit) (2.16.1)\n",
            "Collecting smmap<6,>=3.0.1 (from gitdb<5,>=4.0.1->gitpython!=3.1.19,<4,>=3.0.7->streamlit)\n",
            "  Downloading smmap-5.0.1-py3-none-any.whl (24 kB)\n",
            "Requirement already satisfied: MarkupSafe>=2.0 in /usr/local/lib/python3.10/dist-packages (from jinja2->altair<6,>=4.0->streamlit) (2.1.3)\n",
            "Requirement already satisfied: attrs>=22.2.0 in /usr/local/lib/python3.10/dist-packages (from jsonschema>=3.0->altair<6,>=4.0->streamlit) (23.2.0)\n",
            "Requirement already satisfied: jsonschema-specifications>=2023.03.6 in /usr/local/lib/python3.10/dist-packages (from jsonschema>=3.0->altair<6,>=4.0->streamlit) (2023.12.1)\n",
            "Requirement already satisfied: referencing>=0.28.4 in /usr/local/lib/python3.10/dist-packages (from jsonschema>=3.0->altair<6,>=4.0->streamlit) (0.32.1)\n",
            "Requirement already satisfied: rpds-py>=0.7.1 in /usr/local/lib/python3.10/dist-packages (from jsonschema>=3.0->altair<6,>=4.0->streamlit) (0.17.1)\n",
            "Requirement already satisfied: mdurl~=0.1 in /usr/local/lib/python3.10/dist-packages (from markdown-it-py>=2.2.0->rich<14,>=10.14.0->streamlit) (0.1.2)\n",
            "Installing collected packages: watchdog, validators, smmap, pydeck, gitdb, gitpython, streamlit\n",
            "Successfully installed gitdb-4.0.11 gitpython-3.1.41 pydeck-0.8.1b0 smmap-5.0.1 streamlit-1.30.0 validators-0.22.0 watchdog-3.0.0\n",
            "Requirement already satisfied: streamlit in /usr/local/lib/python3.10/dist-packages (1.30.0)\n",
            "Requirement already satisfied: altair<6,>=4.0 in /usr/local/lib/python3.10/dist-packages (from streamlit) (4.2.2)\n",
            "Requirement already satisfied: blinker<2,>=1.0.0 in /usr/lib/python3/dist-packages (from streamlit) (1.4)\n",
            "Requirement already satisfied: cachetools<6,>=4.0 in /usr/local/lib/python3.10/dist-packages (from streamlit) (5.3.2)\n",
            "Requirement already satisfied: click<9,>=7.0 in /usr/local/lib/python3.10/dist-packages (from streamlit) (8.1.7)\n",
            "Requirement already satisfied: importlib-metadata<8,>=1.4 in /usr/local/lib/python3.10/dist-packages (from streamlit) (7.0.1)\n",
            "Requirement already satisfied: numpy<2,>=1.19.3 in /usr/local/lib/python3.10/dist-packages (from streamlit) (1.23.5)\n",
            "Requirement already satisfied: packaging<24,>=16.8 in /usr/local/lib/python3.10/dist-packages (from streamlit) (23.2)\n",
            "Requirement already satisfied: pandas<3,>=1.3.0 in /usr/local/lib/python3.10/dist-packages (from streamlit) (1.5.3)\n",
            "Requirement already satisfied: pillow<11,>=7.1.0 in /usr/local/lib/python3.10/dist-packages (from streamlit) (9.4.0)\n",
            "Requirement already satisfied: protobuf<5,>=3.20 in /usr/local/lib/python3.10/dist-packages (from streamlit) (3.20.3)\n",
            "Requirement already satisfied: pyarrow>=6.0 in /usr/local/lib/python3.10/dist-packages (from streamlit) (10.0.1)\n",
            "Requirement already satisfied: python-dateutil<3,>=2.7.3 in /usr/local/lib/python3.10/dist-packages (from streamlit) (2.8.2)\n",
            "Requirement already satisfied: requests<3,>=2.27 in /usr/local/lib/python3.10/dist-packages (from streamlit) (2.31.0)\n",
            "Requirement already satisfied: rich<14,>=10.14.0 in /usr/local/lib/python3.10/dist-packages (from streamlit) (13.7.0)\n",
            "Requirement already satisfied: tenacity<9,>=8.1.0 in /usr/local/lib/python3.10/dist-packages (from streamlit) (8.2.3)\n",
            "Requirement already satisfied: toml<2,>=0.10.1 in /usr/local/lib/python3.10/dist-packages (from streamlit) (0.10.2)\n",
            "Requirement already satisfied: typing-extensions<5,>=4.3.0 in /usr/local/lib/python3.10/dist-packages (from streamlit) (4.5.0)\n",
            "Requirement already satisfied: tzlocal<6,>=1.1 in /usr/local/lib/python3.10/dist-packages (from streamlit) (5.2)\n",
            "Requirement already satisfied: validators<1,>=0.2 in /usr/local/lib/python3.10/dist-packages (from streamlit) (0.22.0)\n",
            "Requirement already satisfied: gitpython!=3.1.19,<4,>=3.0.7 in /usr/local/lib/python3.10/dist-packages (from streamlit) (3.1.41)\n",
            "Requirement already satisfied: pydeck<1,>=0.8.0b4 in /usr/local/lib/python3.10/dist-packages (from streamlit) (0.8.1b0)\n",
            "Requirement already satisfied: tornado<7,>=6.0.3 in /usr/local/lib/python3.10/dist-packages (from streamlit) (6.3.2)\n",
            "Requirement already satisfied: watchdog>=2.1.5 in /usr/local/lib/python3.10/dist-packages (from streamlit) (3.0.0)\n",
            "Requirement already satisfied: entrypoints in /usr/local/lib/python3.10/dist-packages (from altair<6,>=4.0->streamlit) (0.4)\n",
            "Requirement already satisfied: jinja2 in /usr/local/lib/python3.10/dist-packages (from altair<6,>=4.0->streamlit) (3.1.3)\n",
            "Requirement already satisfied: jsonschema>=3.0 in /usr/local/lib/python3.10/dist-packages (from altair<6,>=4.0->streamlit) (4.19.2)\n",
            "Requirement already satisfied: toolz in /usr/local/lib/python3.10/dist-packages (from altair<6,>=4.0->streamlit) (0.12.0)\n",
            "Requirement already satisfied: gitdb<5,>=4.0.1 in /usr/local/lib/python3.10/dist-packages (from gitpython!=3.1.19,<4,>=3.0.7->streamlit) (4.0.11)\n",
            "Requirement already satisfied: zipp>=0.5 in /usr/local/lib/python3.10/dist-packages (from importlib-metadata<8,>=1.4->streamlit) (3.17.0)\n",
            "Requirement already satisfied: pytz>=2020.1 in /usr/local/lib/python3.10/dist-packages (from pandas<3,>=1.3.0->streamlit) (2023.3.post1)\n",
            "Requirement already satisfied: six>=1.5 in /usr/local/lib/python3.10/dist-packages (from python-dateutil<3,>=2.7.3->streamlit) (1.16.0)\n",
            "Requirement already satisfied: charset-normalizer<4,>=2 in /usr/local/lib/python3.10/dist-packages (from requests<3,>=2.27->streamlit) (3.3.2)\n",
            "Requirement already satisfied: idna<4,>=2.5 in /usr/local/lib/python3.10/dist-packages (from requests<3,>=2.27->streamlit) (3.6)\n",
            "Requirement already satisfied: urllib3<3,>=1.21.1 in /usr/local/lib/python3.10/dist-packages (from requests<3,>=2.27->streamlit) (2.0.7)\n",
            "Requirement already satisfied: certifi>=2017.4.17 in /usr/local/lib/python3.10/dist-packages (from requests<3,>=2.27->streamlit) (2023.11.17)\n",
            "Requirement already satisfied: markdown-it-py>=2.2.0 in /usr/local/lib/python3.10/dist-packages (from rich<14,>=10.14.0->streamlit) (3.0.0)\n",
            "Requirement already satisfied: pygments<3.0.0,>=2.13.0 in /usr/local/lib/python3.10/dist-packages (from rich<14,>=10.14.0->streamlit) (2.16.1)\n",
            "Requirement already satisfied: smmap<6,>=3.0.1 in /usr/local/lib/python3.10/dist-packages (from gitdb<5,>=4.0.1->gitpython!=3.1.19,<4,>=3.0.7->streamlit) (5.0.1)\n",
            "Requirement already satisfied: MarkupSafe>=2.0 in /usr/local/lib/python3.10/dist-packages (from jinja2->altair<6,>=4.0->streamlit) (2.1.3)\n",
            "Requirement already satisfied: attrs>=22.2.0 in /usr/local/lib/python3.10/dist-packages (from jsonschema>=3.0->altair<6,>=4.0->streamlit) (23.2.0)\n",
            "Requirement already satisfied: jsonschema-specifications>=2023.03.6 in /usr/local/lib/python3.10/dist-packages (from jsonschema>=3.0->altair<6,>=4.0->streamlit) (2023.12.1)\n",
            "Requirement already satisfied: referencing>=0.28.4 in /usr/local/lib/python3.10/dist-packages (from jsonschema>=3.0->altair<6,>=4.0->streamlit) (0.32.1)\n",
            "Requirement already satisfied: rpds-py>=0.7.1 in /usr/local/lib/python3.10/dist-packages (from jsonschema>=3.0->altair<6,>=4.0->streamlit) (0.17.1)\n",
            "Requirement already satisfied: mdurl~=0.1 in /usr/local/lib/python3.10/dist-packages (from markdown-it-py>=2.2.0->rich<14,>=10.14.0->streamlit) (0.1.2)\n"
          ]
        }
      ],
      "source": [
        "!pip install streamlit\n",
        "!pip install streamlit --upgrade"
      ]
    },
    {
      "cell_type": "code",
      "execution_count": null,
      "metadata": {
        "colab": {
          "base_uri": "https://localhost:8080/"
        },
        "id": "a5rUPI6DVY6I",
        "outputId": "d4fa1e30-5087-414a-bdf5-b3d9d844ff0e"
      },
      "outputs": [
        {
          "name": "stdout",
          "output_type": "stream",
          "text": [
            "Overwriting app.py\n"
          ]
        }
      ],
      "source": [
        "%%writefile app.py\n",
        "import streamlit as st\n",
        "from PIL import Image\n",
        "\n",
        "# Mock API call function\n",
        "def api_call(image_path, description):\n",
        "    # Replace this with your actual API call logic\n",
        "    return f\"API response for image: {image_path}, description: {description}\"\n",
        "\n",
        "def main():\n",
        "    st.set_page_config(layout=\"wide\")\n",
        "\n",
        "    st.title(\"Policy & Claim Application\")\n",
        "\n",
        "    image_paths = [\"/content/image1.jpg\", \"/content/image2.jpg\", \"/content/image3.jpg\", \"/content/image4.jpg\"]\n",
        "    descriptions = [\"Description 1\", \"Description 2\", \"Description 3\", \"Description 4\"]\n",
        "\n",
        "    total_images = len(image_paths)\n",
        "    current_image_index = st.session_state.get(\"current_image_index\", 0)\n",
        "\n",
        "    # Sidebar with buttons for each image\n",
        "    st.sidebar.title(\"Choose Process Stage\")\n",
        "    selected_image_button = st.sidebar.button(\"ETL\", key=\"image1\", on_click=lambda: set_image_index(0), type=\"primary\")\n",
        "    st.sidebar.write(\"       👇\", type=\"primary\")\n",
        "    st.sidebar.button(\"Synthetic Data Generation\", key=\"image2\", on_click=lambda: set_image_index(1), type=\"primary\")\n",
        "    st.sidebar.write(\"       👇\", type=\"primary\")\n",
        "    st.sidebar.button(\"Risk Score Analysis\", key=\"image3\", on_click=lambda: set_image_index(2), type=\"primary\")\n",
        "    st.sidebar.write(\"       👇\", type=\"primary\")\n",
        "    st.sidebar.button(\"BI Report\", key=\"image4\", on_click=lambda: set_image_index(3), type=\"primary\")\n",
        "\n",
        "    # Calculate and display progress\n",
        "    progress_pct = (current_image_index + 1) / total_images * 100\n",
        "    st.write(f\"Progress: {progress_pct:.2f}%\")\n",
        "\n",
        "    # Seek bar with custom label\n",
        "    st.progress(current_image_index / (total_images - 1))\n",
        "\n",
        "    # Button column layout\n",
        "    col1, col2 = st.columns([1, 4])\n",
        "\n",
        "    # Left arrow button\n",
        "    # with col1:\n",
        "    #     st.container()  # Create an empty container to center the button\n",
        "    #     if st.button(\"<\", key=\"prev\", disabled=(current_image_index == 0)):\n",
        "    #         current_image_index = max(0, current_image_index - 1)\n",
        "\n",
        "    # Center image\n",
        "    with col2:\n",
        "        current_image = Image.open(image_paths[current_image_index])\n",
        "        st.image(current_image, width=500)\n",
        "\n",
        "    # Right arrow button\n",
        "    # with col1:\n",
        "    #     st.container()  # Create an empty container to center the button\n",
        "    #     if st.button(\">\", key=\"next\", disabled=(current_image_index == len(image_paths) - 1)):\n",
        "    #         current_image_index = min(len(image_paths) - 1, current_image_index + 1)\n",
        "\n",
        "    st.session_state.current_image_index = current_image_index\n",
        "\n",
        "    # Centered Call API button\n",
        "    col4, col5 = st.columns([1, 2])  # Two columns for centering\n",
        "    with col5:\n",
        "        if st.button(\"Start the Process\", key=f\"button_{current_image_index}\", type=\"primary\"):\n",
        "            api_response = api_call(image_paths[current_image_index], descriptions[current_image_index])\n",
        "            st.write(f\"API Response: {api_response}\")\n",
        "\n",
        "def set_image_index(index):\n",
        "    st.session_state.current_image_index = index\n",
        "\n",
        "if __name__ == \"__main__\":\n",
        "    main()\n"
      ]
    },
    {
      "cell_type": "code",
      "execution_count": null,
      "metadata": {
        "colab": {
          "base_uri": "https://localhost:8080/"
        },
        "id": "_y8MiFT-QJh5",
        "outputId": "024254be-f612-4fa1-a765-16fdeacc85aa"
      },
      "outputs": [
        {
          "name": "stdout",
          "output_type": "stream",
          "text": [
            "34.106.153.31\n"
          ]
        }
      ],
      "source": [
        "!wget -q -O - ipv4.icanhazip.com\n"
      ]
    },
    {
      "cell_type": "code",
      "execution_count": null,
      "metadata": {
        "colab": {
          "background_save": true,
          "base_uri": "https://localhost:8080/"
        },
        "id": "rTJD6SMRQLMQ",
        "outputId": "d4eaae44-7056-40c7-ef32-4368ebdae3cc"
      },
      "outputs": [
        {
          "metadata": {
            "tags": null
          },
          "name": "stdout",
          "output_type": "stream",
          "text": [
            "[..................] \\ fetchMetadata: sill resolveWithNewModule localtunnel@2.0\u001b[0m\u001b[K\n",
            "Collecting usage statistics. To deactivate, set browser.gatherUsageStats to False.\n",
            "\u001b[0m\n",
            "\u001b[0m\n",
            "\u001b[34m\u001b[1m  You can now view your Streamlit app in your browser.\u001b[0m\n",
            "\u001b[0m\n",
            "\u001b[34m  Network URL: \u001b[0m\u001b[1mhttp://172.28.0.12:8501\u001b[0m\n",
            "\u001b[34m  External URL: \u001b[0m\u001b[1mhttp://34.106.153.31:8501\u001b[0m\n",
            "\u001b[0m\n",
            "\u001b[K\u001b[?25hnpx: installed 22 in 2.672s\n",
            "your url is: https://wise-colts-doubt.loca.lt\n",
            "2024-01-24 12:31:00.909 Invalid arguments were passed to \"st.write\" function. Support for passing such unknown keywords arguments will be dropped in future. Invalid arguments were: {'type': 'primary'}\n",
            "2024-01-24 12:31:00.910 Invalid arguments were passed to \"st.write\" function. Support for passing such unknown keywords arguments will be dropped in future. Invalid arguments were: {'type': 'primary'}\n",
            "2024-01-24 12:31:00.911 Invalid arguments were passed to \"st.write\" function. Support for passing such unknown keywords arguments will be dropped in future. Invalid arguments were: {'type': 'primary'}\n",
            "2024-01-24 12:31:17.551 Invalid arguments were passed to \"st.write\" function. Support for passing such unknown keywords arguments will be dropped in future. Invalid arguments were: {'type': 'primary'}\n",
            "2024-01-24 12:31:17.552 Invalid arguments were passed to \"st.write\" function. Support for passing such unknown keywords arguments will be dropped in future. Invalid arguments were: {'type': 'primary'}\n",
            "2024-01-24 12:31:17.553 Invalid arguments were passed to \"st.write\" function. Support for passing such unknown keywords arguments will be dropped in future. Invalid arguments were: {'type': 'primary'}\n",
            "2024-01-24 12:31:25.176 Invalid arguments were passed to \"st.write\" function. Support for passing such unknown keywords arguments will be dropped in future. Invalid arguments were: {'type': 'primary'}\n",
            "2024-01-24 12:31:25.178 Invalid arguments were passed to \"st.write\" function. Support for passing such unknown keywords arguments will be dropped in future. Invalid arguments were: {'type': 'primary'}\n",
            "2024-01-24 12:31:25.179 Invalid arguments were passed to \"st.write\" function. Support for passing such unknown keywords arguments will be dropped in future. Invalid arguments were: {'type': 'primary'}\n",
            "2024-01-24 12:31:29.106 Invalid arguments were passed to \"st.write\" function. Support for passing such unknown keywords arguments will be dropped in future. Invalid arguments were: {'type': 'primary'}\n",
            "2024-01-24 12:31:29.107 Invalid arguments were passed to \"st.write\" function. Support for passing such unknown keywords arguments will be dropped in future. Invalid arguments were: {'type': 'primary'}\n",
            "2024-01-24 12:31:29.108 Invalid arguments were passed to \"st.write\" function. Support for passing such unknown keywords arguments will be dropped in future. Invalid arguments were: {'type': 'primary'}\n",
            "2024-01-24 12:39:08.313 Invalid arguments were passed to \"st.write\" function. Support for passing such unknown keywords arguments will be dropped in future. Invalid arguments were: {'type': 'primary'}\n",
            "2024-01-24 12:39:08.314 Invalid arguments were passed to \"st.write\" function. Support for passing such unknown keywords arguments will be dropped in future. Invalid arguments were: {'type': 'primary'}\n",
            "2024-01-24 12:39:08.315 Invalid arguments were passed to \"st.write\" function. Support for passing such unknown keywords arguments will be dropped in future. Invalid arguments were: {'type': 'primary'}\n",
            "2024-01-24 12:39:09.525 Invalid arguments were passed to \"st.write\" function. Support for passing such unknown keywords arguments will be dropped in future. Invalid arguments were: {'type': 'primary'}\n",
            "2024-01-24 12:39:09.526 Invalid arguments were passed to \"st.write\" function. Support for passing such unknown keywords arguments will be dropped in future. Invalid arguments were: {'type': 'primary'}\n",
            "2024-01-24 12:39:09.528 Invalid arguments were passed to \"st.write\" function. Support for passing such unknown keywords arguments will be dropped in future. Invalid arguments were: {'type': 'primary'}\n",
            "2024-01-24 12:39:11.151 Invalid arguments were passed to \"st.write\" function. Support for passing such unknown keywords arguments will be dropped in future. Invalid arguments were: {'type': 'primary'}\n",
            "2024-01-24 12:39:11.153 Invalid arguments were passed to \"st.write\" function. Support for passing such unknown keywords arguments will be dropped in future. Invalid arguments were: {'type': 'primary'}\n",
            "2024-01-24 12:39:11.154 Invalid arguments were passed to \"st.write\" function. Support for passing such unknown keywords arguments will be dropped in future. Invalid arguments were: {'type': 'primary'}\n",
            "2024-01-24 12:39:12.699 Invalid arguments were passed to \"st.write\" function. Support for passing such unknown keywords arguments will be dropped in future. Invalid arguments were: {'type': 'primary'}\n",
            "2024-01-24 12:39:12.700 Invalid arguments were passed to \"st.write\" function. Support for passing such unknown keywords arguments will be dropped in future. Invalid arguments were: {'type': 'primary'}\n",
            "2024-01-24 12:39:12.701 Invalid arguments were passed to \"st.write\" function. Support for passing such unknown keywords arguments will be dropped in future. Invalid arguments were: {'type': 'primary'}\n",
            "2024-01-24 13:09:17.998 Invalid arguments were passed to \"st.write\" function. Support for passing such unknown keywords arguments will be dropped in future. Invalid arguments were: {'type': 'primary'}\n",
            "2024-01-24 13:09:18.000 Invalid arguments were passed to \"st.write\" function. Support for passing such unknown keywords arguments will be dropped in future. Invalid arguments were: {'type': 'primary'}\n",
            "2024-01-24 13:09:18.001 Invalid arguments were passed to \"st.write\" function. Support for passing such unknown keywords arguments will be dropped in future. Invalid arguments were: {'type': 'primary'}\n"
          ]
        }
      ],
      "source": [
        "! streamlit run app.py & npx localtunnel --port 8501"
      ]
    },
    {
      "cell_type": "code",
      "execution_count": null,
      "metadata": {
        "id": "_1JofL2Nc4Sy"
      },
      "outputs": [],
      "source": []
    }
  ],
  "metadata": {
    "colab": {
      "provenance": []
    },
    "kernelspec": {
      "display_name": "Python 3",
      "name": "python3"
    },
    "language_info": {
      "name": "python"
    }
  },
  "nbformat": 4,
  "nbformat_minor": 0
}